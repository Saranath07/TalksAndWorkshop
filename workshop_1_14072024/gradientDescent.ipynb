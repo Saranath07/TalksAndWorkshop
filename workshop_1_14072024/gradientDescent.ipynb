{
  "cells": [
    {
      "cell_type": "raw",
      "metadata": {},
      "source": [
        "---\n",
        "title: Gradient Descent Animation\n",
        "format: html\n",
        "---"
      ],
      "id": "20eff69f"
    },
    {
      "cell_type": "markdown",
      "metadata": {},
      "source": [
        "import numpy as np\n",
        "import matplotlib.pyplot as plt\n",
        "from matplotlib.animation import FuncAnimation\n",
        "\n",
        "# Define the function and its derivative\n",
        "def func(x):\n",
        "    return np.sin(x)\n",
        "\n",
        "def grad(x):\n",
        "    return np.cos(x)\n",
        "\n",
        "# Generate data for the curve\n",
        "x = np.linspace(-2*np.pi, 2*np.pi, 400)\n",
        "y = func(x)\n",
        "\n",
        "# Set up the figure and axis\n",
        "fig, ax = plt.subplots()\n",
        "ax.plot(x, y, 'k', linewidth=1)\n",
        "ball, = ax.plot([], [], 'go', markersize=10)\n",
        "line, = ax.plot([], [], 'r', linewidth=1)\n",
        "\n",
        "# Initialize the plot elements\n",
        "def init():\n",
        "    ball.set_data([], [])\n",
        "    line.set_data([], [])\n",
        "    return ball, line\n",
        "\n",
        "# Update function for animation\n",
        "def update(frame):\n",
        "    x_data = x[frame]\n",
        "    y_data = func(x_data)\n",
        "    ball.set_data(x_data, y_data)\n",
        "\n",
        "    # Gradient descent step\n",
        "    grad_value = grad(x_data)\n",
        "    new_x_data = x_data - 0.1 * grad_value  # Step size 0.1\n",
        "    new_y_data = func(new_x_data)\n",
        "    \n",
        "    # Update line\n",
        "    line.set_data([x_data, new_x_data], [y_data, new_y_data])\n",
        "    \n",
        "    return ball, line\n",
        "\n",
        "# Create animation\n",
        "ani = FuncAnimation(fig, update, frames=np.arange(len(x)), init_func=init, blit=True, repeat=False)\n",
        "\n",
        "# Save the animation\n",
        "ani.save('/mnt/data/gradient_descent.mp4', writer='ffmpeg', dpi=300)\n",
        "\n",
        "plt.show()"
      ],
      "id": "4c983e53"
    }
  ],
  "metadata": {
    "kernelspec": {
      "name": "python3",
      "language": "python",
      "display_name": "Python 3 (ipykernel)"
    }
  },
  "nbformat": 4,
  "nbformat_minor": 5
}